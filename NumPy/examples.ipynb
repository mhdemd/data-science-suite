{
 "cells": [
  {
   "cell_type": "markdown",
   "id": "d9a9c919-a8e7-41c5-9de0-64e3e8d4787e",
   "metadata": {},
   "source": [
    "# NumPy Examples Notebook\n",
    "\n",
    "Below is a general outline of a Jupyter Notebook (`examples.ipynb`) showcasing various NumPy features.  \n",
    "You can split these sections into multiple cells in your Jupyter environment.\n",
    "\n",
    "---\n",
    "\n",
    "## 1. Creating Arrays and Checking Attributes"
   ]
  },
  {
   "cell_type": "code",
   "execution_count": 3,
   "id": "1568cb48-10b3-4447-bc74-a9200a782b15",
   "metadata": {},
   "outputs": [
    {
     "name": "stdout",
     "output_type": "stream",
     "text": [
      "arr_1d: [10 20 30 40]\n",
      "Shape: (4,)\n",
      "Size: 4\n",
      "ndim: 1\n"
     ]
    }
   ],
   "source": [
    "    import numpy as np\n",
    "\n",
    "    # 1D array\n",
    "    arr_1d = np.array([10, 20, 30, 40])\n",
    "    print(\"arr_1d:\", arr_1d)\n",
    "    print(\"Shape:\", arr_1d.shape)\n",
    "    print(\"Size:\", arr_1d.size)\n",
    "    print(\"ndim:\", arr_1d.ndim)"
   ]
  },
  {
   "cell_type": "markdown",
   "id": "7f43a2dc-abb9-48d1-99f3-be99a9e05222",
   "metadata": {},
   "source": [
    "---\n",
    "\n",
    "## 2. Random Matrix and Basic Statistics"
   ]
  },
  {
   "cell_type": "code",
   "execution_count": 5,
   "id": "0957b72e-07e8-4f92-95a6-b1f1f0a4fe1d",
   "metadata": {},
   "outputs": [
    {
     "name": "stdout",
     "output_type": "stream",
     "text": [
      "Random 3x3 Matrix:\n",
      " [[5 7 8]\n",
      " [1 4 8]\n",
      " [2 6 2]]\n",
      "Mean: 4.777777777777778\n",
      "Max: 8\n",
      "Argmax (index of max value): 2\n"
     ]
    }
   ],
   "source": [
    "    mat_random = np.random.randint(1, 10, (3, 3))\n",
    "    print(\"Random 3x3 Matrix:\\n\", mat_random)\n",
    "    print(\"Mean:\", mat_random.mean())\n",
    "    print(\"Max:\", mat_random.max())\n",
    "    print(\"Argmax (index of max value):\", mat_random.argmax())"
   ]
  },
  {
   "cell_type": "markdown",
   "id": "0b2d5a2a-5536-469a-a405-29adc3d726e0",
   "metadata": {},
   "source": [
    "---\n",
    "\n",
    "## 3. Indexing and Slicing"
   ]
  },
  {
   "cell_type": "code",
   "execution_count": 6,
   "id": "86ddbc02-e68d-4536-903f-c90a18257e91",
   "metadata": {},
   "outputs": [
    {
     "name": "stdout",
     "output_type": "stream",
     "text": [
      "mat[1, 1] = 21\n",
      "Sliced sub_mat:\n",
      " [[11 12]\n",
      " [21 22]]\n"
     ]
    }
   ],
   "source": [
    "    mat = np.array([\n",
    "        [10, 11, 12],\n",
    "        [20, 21, 22],\n",
    "        [30, 31, 32]\n",
    "    ])\n",
    "    print(\"mat[1, 1] =\", mat[1, 1])  # 21\n",
    "\n",
    "    sub_mat = mat[0:2, 1:]\n",
    "    print(\"Sliced sub_mat:\\n\", sub_mat)"
   ]
  },
  {
   "cell_type": "markdown",
   "id": "4f30286a-d9ca-40b3-b172-05b05eb094e7",
   "metadata": {},
   "source": [
    "---\n",
    "\n",
    "## 4. Reshape and Flatten"
   ]
  },
  {
   "cell_type": "code",
   "execution_count": 8,
   "id": "9d23ad4c-6222-458f-8725-65e217374508",
   "metadata": {},
   "outputs": [
    {
     "name": "stdout",
     "output_type": "stream",
     "text": [
      "3x4 matrix:\n",
      " [[ 0  1  2  3]\n",
      " [ 4  5  6  7]\n",
      " [ 8  9 10 11]]\n",
      "Flattened: [ 0  1  2  3  4  5  6  7  8  9 10 11]\n"
     ]
    }
   ],
   "source": [
    "    arr_12 = np.arange(12)  # [0,1,2,...,11]\n",
    "    mat_3x4 = arr_12.reshape((3, 4))\n",
    "    print(\"3x4 matrix:\\n\", mat_3x4)\n",
    "\n",
    "    flat = mat_3x4.flatten()\n",
    "    print(\"Flattened:\", flat)"
   ]
  },
  {
   "cell_type": "markdown",
   "id": "df55c26f-4871-41cc-8fa3-cbf1298138ea",
   "metadata": {},
   "source": [
    "---\n",
    "\n",
    "## 5. Arithmetic Operations"
   ]
  },
  {
   "cell_type": "code",
   "execution_count": 10,
   "id": "9ae276d3-9bec-4e50-85ce-f0d6d171754e",
   "metadata": {},
   "outputs": [
    {
     "name": "stdout",
     "output_type": "stream",
     "text": [
      "arr1 + arr2 = [5 7 9]\n",
      "arr1 * arr2 = [ 4 10 18]\n",
      "Matrix Product:\n",
      " [[19 22]\n",
      " [43 50]]\n"
     ]
    }
   ],
   "source": [
    "    arr1 = np.array([1, 2, 3])\n",
    "    arr2 = np.array([4, 5, 6])\n",
    "    print(\"arr1 + arr2 =\", arr1 + arr2)\n",
    "    print(\"arr1 * arr2 =\", arr1 * arr2)\n",
    "\n",
    "    # Matrix multiplication\n",
    "    A = np.array([\n",
    "        [1, 2],\n",
    "        [3, 4]\n",
    "    ])\n",
    "    B = np.array([\n",
    "        [5, 6],\n",
    "        [7, 8]\n",
    "    ])\n",
    "    C = A.dot(B)\n",
    "    print(\"Matrix Product:\\n\", C)"
   ]
  },
  {
   "cell_type": "code",
   "execution_count": null,
   "id": "2afa4c91-731c-4c31-8420-23169f7a91cd",
   "metadata": {},
   "outputs": [],
   "source": []
  }
 ],
 "metadata": {
  "kernelspec": {
   "display_name": "Python 3 (ipykernel)",
   "language": "python",
   "name": "python3"
  },
  "language_info": {
   "codemirror_mode": {
    "name": "ipython",
    "version": 3
   },
   "file_extension": ".py",
   "mimetype": "text/x-python",
   "name": "python",
   "nbconvert_exporter": "python",
   "pygments_lexer": "ipython3",
   "version": "3.12.3"
  }
 },
 "nbformat": 4,
 "nbformat_minor": 5
}
